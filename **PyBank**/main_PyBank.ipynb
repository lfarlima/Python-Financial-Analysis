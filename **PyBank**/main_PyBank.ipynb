{
 "cells": [
  {
   "cell_type": "code",
   "execution_count": 581,
   "metadata": {},
   "outputs": [],
   "source": [
    "# Import libraries and dependencies\n",
    "from pathlib import Path\n",
    "import csv"
   ]
  },
  {
   "cell_type": "code",
   "execution_count": 747,
   "metadata": {},
   "outputs": [
    {
     "name": "stdout",
     "output_type": "stream",
     "text": [
      "<class '_io.TextIOWrapper'>\n",
      "<_csv.reader object at 0x7f9b5258b820>\n",
      "['Date', 'Profit/Losses']\n",
      "['Jan-2010', '867884']\n",
      "['Feb-2010', '984655']\n",
      "['Mar-2010', '322013']\n",
      "['Apr-2010', '-69417']\n",
      "['May-2010', '310503']\n",
      "['Jun-2010', '522857']\n",
      "['Jul-2010', '1033096']\n",
      "['Aug-2010', '604885']\n",
      "['Sep-2010', '-216386']\n",
      "['Oct-2010', '477532']\n",
      "['Nov-2010', '893810']\n",
      "['Dec-2010', '-80353']\n",
      "['Jan-2011', '779806']\n",
      "['Feb-2011', '-335203']\n",
      "['Mar-2011', '697845']\n",
      "['Apr-2011', '793163']\n",
      "['May-2011', '485070']\n",
      "['Jun-2011', '584122']\n",
      "['Jul-2011', '62729']\n",
      "['Aug-2011', '668179']\n",
      "['Sep-2011', '899906']\n",
      "['Oct-2011', '834719']\n",
      "['Nov-2011', '132003']\n",
      "['Dec-2011', '309978']\n",
      "['Jan-2012', '-755566']\n",
      "['Feb-2012', '1170593']\n",
      "['Mar-2012', '252788']\n",
      "['Apr-2012', '1151518']\n",
      "['May-2012', '817256']\n",
      "['Jun-2012', '570757']\n",
      "['Jul-2012', '506702']\n",
      "['Aug-2012', '-1022534']\n",
      "['Sep-2012', '475062']\n",
      "['Oct-2012', '779976']\n",
      "['Nov-2012', '144175']\n",
      "['Dec-2012', '542494']\n",
      "['Jan-2013', '359333']\n",
      "['Feb-2013', '321469']\n",
      "['Mar-2013', '67780']\n",
      "['Apr-2013', '471435']\n",
      "['May-2013', '565603']\n",
      "['Jun-2013', '872480']\n",
      "['Jul-2013', '789480']\n",
      "['Aug-2013', '999942']\n",
      "['Sep-2013', '-1196225']\n",
      "['Oct-2013', '268997']\n",
      "['Nov-2013', '-687986']\n",
      "['Dec-2013', '1150461']\n",
      "['Jan-2014', '682458']\n",
      "['Feb-2014', '617856']\n",
      "['Mar-2014', '824098']\n",
      "['Apr-2014', '581943']\n",
      "['May-2014', '132864']\n",
      "['Jun-2014', '448062']\n",
      "['Jul-2014', '689161']\n",
      "['Aug-2014', '800701']\n",
      "['Sep-2014', '1166643']\n",
      "['Oct-2014', '947333']\n",
      "['Nov-2014', '578668']\n",
      "['Dec-2014', '988505']\n",
      "['Jan-2015', '1139715']\n",
      "['Feb-2015', '1029471']\n",
      "['Mar-2015', '687533']\n",
      "['Apr-2015', '-524626']\n",
      "['May-2015', '158620']\n",
      "['Jun-2015', '87795']\n",
      "['Jul-2015', '423389']\n",
      "['Aug-2015', '840723']\n",
      "['Sep-2015', '568529']\n",
      "['Oct-2015', '332067']\n",
      "['Nov-2015', '989499']\n",
      "['Dec-2015', '778237']\n",
      "['Jan-2016', '650000']\n",
      "['Feb-2016', '-1100387']\n",
      "['Mar-2016', '-174946']\n",
      "['Apr-2016', '757143']\n",
      "['May-2016', '445709']\n",
      "['Jun-2016', '712961']\n",
      "['Jul-2016', '-1163797']\n",
      "['Aug-2016', '569899']\n",
      "['Sep-2016', '768450']\n",
      "['Oct-2016', '102685']\n",
      "['Nov-2016', '795914']\n",
      "['Dec-2016', '60988']\n",
      "['Jan-2017', '138230']\n",
      "['Feb-2017', '671099']\n"
     ]
    }
   ],
   "source": [
    "# Set file path and read in CSV as a DataFrame\n",
    "# print(f\"Current Working Directory: {Path.cwd()}\") #check current working directory\n",
    "\n",
    "filepath = Path('Resources/budget_data.csv')\n",
    "\n",
    "# with open(filepath,'r') as csvfile:\n",
    "#     text = csv.reader(csvfile,delimiter=',')\n",
    "#     header = next(csvfile)\n",
    "#     print(text)\n",
    "\n",
    "with open(filepath,'r') as csvfile:\n",
    "    print(type(csvfile))\n",
    "    csvreader = csv.reader(csvfile, delimiter = ',')\n",
    "    print(csvreader)\n",
    "    \n",
    "    headers = next(csvreader) # Skip the header row in count\n",
    "    print(f\"{headers}\")\n",
    "    \n",
    "    for row in csvreader:\n",
    "        print(row)"
   ]
  },
  {
   "cell_type": "code",
   "execution_count": 818,
   "metadata": {},
   "outputs": [],
   "source": [
    "# # Set the output file path\n",
    "output_path = Path(\"output.txt\")\n",
    "\n",
    "# # Open the output_path as a file in write mode\n",
    "# with open(output_path, 'w') as outputfile:\n",
    "#     csvwriter = csv.writer(outputfile,delimiter=',')\n",
    "#     csvwriter.writerow(\"*Budget Data*\\n\")\n",
    "#     csvwriter.writerow(file_input.read())\n",
    "\n",
    "# # Assign variable to read output file\n",
    "# filepath_output = Path(\"output.txt\")\n",
    "# f = open(filepath_output,'r')\n",
    "# # print(f.read())"
   ]
  },
  {
   "cell_type": "markdown",
   "metadata": {},
   "source": [
    "# Create a Python script that analyzes the records to calculate each of the following:\n",
    "    \n",
    "    1) The total number of months included in the dataset.\n",
    "\n",
    "    2) The net total amount of Profit/Losses over the entire period.\n",
    "\n",
    "    3) The average of the changes in Profit/Losses over the entire period.\n",
    "\n",
    "    4) The greatest increase in profits (date and amount) over the entire period.\n",
    "\n",
    "    5) The greatest decrease in losses (date and amount) over the entire period."
   ]
  },
  {
   "cell_type": "code",
   "execution_count": 934,
   "metadata": {},
   "outputs": [],
   "source": [
    "# Initialize variable to hold change in Profit/Losses\n",
    "total_revenue = []\n",
    "monthly_rev_chg = []\n",
    "\n",
    "# Set the variables\n",
    "total_months = 0\n",
    "month_of_change = 0\n",
    "net_total = 0\n",
    "average = 0\n",
    "revenue = 0\n",
    "rev_2 = 0\n",
    "rev_chg = 0\n",
    "rev_chg_avg = 0\n",
    "greatest_increase = [\" \",0]\n",
    "greatest_decrease = [\" \",99999999]"
   ]
  },
  {
   "cell_type": "code",
   "execution_count": 935,
   "metadata": {},
   "outputs": [
    {
     "name": "stdout",
     "output_type": "stream",
     "text": [
      "Total months: 86\n"
     ]
    }
   ],
   "source": [
    "# 1) Calculate the total number of months included in the dataset.\n",
    "\n",
    "with open (filepath,'r') as csvfile:\n",
    "    csvreader = csv.reader(csvfile,delimiter=',')\n",
    "    headers = next(csvreader) # Skip the header row in count    \n",
    "    \n",
    "    for row in csvreader: # Read each row of data after header\n",
    "        total_months += 1\n"
   ]
  },
  {
   "cell_type": "code",
   "execution_count": 936,
   "metadata": {},
   "outputs": [
    {
     "name": "stdout",
     "output_type": "stream",
     "text": [
      "Total: $38,382,578\n"
     ]
    }
   ],
   "source": [
    "# 2) Calculate the net total amount of Profit/Losses over the entire period.\n",
    "\n",
    "with open (filepath,'r') as csvfile:\n",
    "    csvreader = csv.reader(csvfile,delimiter=',')\n",
    "    headers = next(csvreader) \n",
    "\n",
    "    for line in csvreader:\n",
    "        revenue = int(line[1])\n",
    "        total_revenue.append(revenue)\n",
    "        "
   ]
  },
  {
   "cell_type": "code",
   "execution_count": 944,
   "metadata": {},
   "outputs": [
    {
     "name": "stdout",
     "output_type": "stream",
     "text": [
      "Average Change: $-2,315.12\n"
     ]
    }
   ],
   "source": [
    "# 3) Calculate the average of the changes in Profit/Losses over the entire period.\n",
    "\n",
    "# calculate monthly revenue changes in P/L \n",
    "# calculate average of new column\n",
    "\n",
    "with open (filepath,'r') as csvfile:\n",
    "    csvreader = csv.reader(csvfile,delimiter=',')\n",
    "    headers = next(csvreader)\n",
    "    \n",
    "    for rev in csvreader:\n",
    "        rev_chg = float(rev[1])-rev_2\n",
    "        rev_2 = float(rev[1])\n",
    "        month_of_change = [month_of_change] + [row[1]]\n",
    "        monthly_rev_chg.append(rev_chg)\n",
    "        rev_chg_avg = (sum(monthly_rev_chg) - 867884) / ((total_months) - 1)\n"
   ]
  },
  {
   "cell_type": "code",
   "execution_count": 950,
   "metadata": {},
   "outputs": [
    {
     "data": {
      "text/plain": [
       "['Feb-2012', 1926159.0]"
      ]
     },
     "execution_count": 950,
     "metadata": {},
     "output_type": "execute_result"
    }
   ],
   "source": [
    "# 4) The greatest increase in profits (date and amount) over the entire period.\n",
    "with open (filepath,'r') as csvfile:\n",
    "    csvreader = csv.reader(csvfile,delimiter=',')\n",
    "    headers = next(csvreader)\n",
    "    \n",
    "    for row in csvreader:\n",
    "        rev_chg = float(row[1])-rev_2\n",
    "        rev_2 = float(row[1])\n",
    "        month_of_change = [month_of_change] + [row[1]]\n",
    "        monthly_rev_chg.append(rev_chg)\n",
    "        if rev_chg > greatest_increase[1]:\n",
    "            greatest_increase[1]=rev_chg\n",
    "            greatest_increase[0]=row[0]\n",
    "greatest_increase"
   ]
  },
  {
   "cell_type": "code",
   "execution_count": 958,
   "metadata": {},
   "outputs": [
    {
     "name": "stdout",
     "output_type": "stream",
     "text": [
      "['Sep-2013', -2196167.0]\n"
     ]
    }
   ],
   "source": [
    "# 5) The greatest decrease in losses (date and amount) over the entire period.\n",
    "\n",
    "with open (filepath,'r') as csvfile:\n",
    "    csvreader = csv.reader(csvfile,delimiter=',')\n",
    "    headers = next(csvreader)\n",
    "    \n",
    "    for row in csvreader:\n",
    "        rev_chg = float(row[1])-rev_2\n",
    "        rev_2 = float(row[1])\n",
    "        month_of_change = [month_of_change] + [row[1]]\n",
    "        monthly_rev_chg.append(rev_chg)\n",
    "        if rev_chg < greatest_decrease[1]:\n",
    "            greatest_decrease[1]=rev_chg\n",
    "            greatest_decrease[0]=row[0]\n",
    "print(str(greatest_decrease))"
   ]
  },
  {
   "cell_type": "code",
   "execution_count": 960,
   "metadata": {},
   "outputs": [
    {
     "name": "stdout",
     "output_type": "stream",
     "text": [
      "Financial Analysis\n",
      "-----------------------------------\n",
      "Total months: 86\n",
      "Total: $38,382,578\n",
      "Average Change: $-2,315.12\n",
      "Greatest Increase in Profits: ['Feb-2012', 1926159.0]\n",
      "Greatest Increase in Profits: ['Sep-2013', -2196167.0]\n"
     ]
    }
   ],
   "source": [
    "# Print statements\n",
    "print(\"Financial Analysis\")\n",
    "print(\"-----------------------------------\")\n",
    "print(\"Total months: \"+ str(total_months))\n",
    "print(\"Total: $\" + f'{(sum(total_revenue)):,}')\n",
    "print(\"Average Change: $\" + f'{rev_chg_avg:,.2f}',)\n",
    "print(\"Greatest Increase in Profits: \"+ str(greatest_increase))\n",
    "print(\"Greatest Increase in Profits: \"+ str(greatest_decrease))"
   ]
  },
  {
   "cell_type": "code",
   "execution_count": 985,
   "metadata": {},
   "outputs": [],
   "source": [
    "# #write changes to csv\n",
    "with open(output_path, 'w') as file:\n",
    "    file.write(\"Financial Analysis\\n\")\n",
    "    file.write(\"---------------------\\n\")\n",
    "    file.write(\"Total months: \"+ str(total_months))\n",
    "    file.write(\"\\n\")\n",
    "    file.write(\"Total: $\" + f'{(sum(total_revenue)):,}')\n",
    "    file.write(\"\\n\")\n",
    "    file.write(\"Average Change: $\" + f'{rev_chg_avg:,.2f}',)\n",
    "    file.write(\"\\n\")\n",
    "    file.write(\"Greatest Increase in Profits: \"+ str(greatest_increase))\n",
    "    file.write(\"\\n\")\n",
    "    file.write(\"Greatest Increase in Profits: \"+ str(greatest_decrease))\n",
    "    file.write(\"\\n\")"
   ]
  }
 ],
 "metadata": {
  "kernelspec": {
   "display_name": "Python 3",
   "language": "python",
   "name": "python3"
  },
  "language_info": {
   "codemirror_mode": {
    "name": "ipython",
    "version": 3
   },
   "file_extension": ".py",
   "mimetype": "text/x-python",
   "name": "python",
   "nbconvert_exporter": "python",
   "pygments_lexer": "ipython3",
   "version": "3.8.5"
  }
 },
 "nbformat": 4,
 "nbformat_minor": 4
}
